{
  "nbformat": 4,
  "nbformat_minor": 0,
  "metadata": {
    "colab": {
      "name": "Text Summarizer.ipynb",
      "provenance": [],
      "collapsed_sections": [],
      "authorship_tag": "ABX9TyOlyma9DTVPlBQ7X+Kz5Ffj",
      "include_colab_link": true
    },
    "kernelspec": {
      "name": "python3",
      "display_name": "Python 3"
    }
  },
  "cells": [
    {
      "cell_type": "markdown",
      "metadata": {
        "id": "view-in-github",
        "colab_type": "text"
      },
      "source": [
        "<a href=\"https://colab.research.google.com/github/atishayjain1x/Text-Summarizer/blob/main/Text_Summarizer.ipynb\" target=\"_parent\"><img src=\"https://colab.research.google.com/assets/colab-badge.svg\" alt=\"Open In Colab\"/></a>"
      ]
    },
    {
      "cell_type": "code",
      "metadata": {
        "colab": {
          "base_uri": "https://localhost:8080/"
        },
        "id": "GPNjxxzBq_-k",
        "outputId": "ca2ebdd5-7d32-4e53-e190-32dabbbccc8f"
      },
      "source": [
        "import nltk\n",
        "from nltk.tokenize import sent_tokenize\n",
        "from nltk.tokenize import word_tokenize\n",
        "from nltk.corpus import stopwords\n",
        "import string\n",
        "nltk.download('punkt')\n",
        "punct=list(string.punctuation)\n",
        "nltk.download(\"stopwords\")\n",
        "stop=stopwords.words('english')\n",
        "punct.append('\\n')\n",
        "stop=stop+punct\n"
      ],
      "execution_count": null,
      "outputs": [
        {
          "output_type": "stream",
          "text": [
            "[nltk_data] Downloading package punkt to /root/nltk_data...\n",
            "[nltk_data]   Unzipping tokenizers/punkt.zip.\n",
            "[nltk_data] Downloading package stopwords to /root/nltk_data...\n",
            "[nltk_data]   Unzipping corpora/stopwords.zip.\n"
          ],
          "name": "stdout"
        }
      ]
    },
    {
      "cell_type": "code",
      "metadata": {
        "id": "5KGo2aSd2PMI"
      },
      "source": [
        "def summarizer(text):\n",
        "  wordtoken=word_tokenize(text)\n",
        "  wordfrequency={}\n",
        "  for w in wordtoken:\n",
        "    if w.lower() not in stop:\n",
        "      if w not in wordfrequency:\n",
        "        wordfrequency[w.lower()]=1\n",
        "      else:\n",
        "        wordfrequency[w.lower()]+=1\n",
        "  maxwordfreq=max(wordfrequency.values())\n",
        "\n",
        "\n",
        "  for word,freq in wordfrequency.items():\n",
        "    wordfrequency[word]=wordfrequency[word]/maxwordfreq\n",
        "  senttoken=sent_tokenize(text)\n",
        "\n",
        "\n",
        "  sentencescore={}\n",
        "  for sent in senttoken:\n",
        "    sentence=sent.split(' ')\n",
        "    for word in sentence:\n",
        "      if word.lower() in wordfrequency.keys():\n",
        "        if sent not in sentencescore.keys():\n",
        "          sentencescore[sent]=wordfrequency[word.lower()]\n",
        "        else:\n",
        "          sentencescore[sent]+=wordfrequency[word.lower()]\n",
        "\n",
        "          \n",
        "  from heapq import nlargest\n",
        "  l=int(len(senttoken)*(0.4))\n",
        "  s=[i for i,j in sentencescore.items()]\n",
        "  p=nlargest(l,s)\n",
        "  p=[i for i in p]\n",
        "  summary=''\n",
        "  for i in p:\n",
        "    summary=summary+i\n",
        "    summary=summary+'\\n'\n",
        "  return summary"
      ],
      "execution_count": null,
      "outputs": []
    },
    {
      "cell_type": "code",
      "metadata": {
        "colab": {
          "base_uri": "https://localhost:8080/"
        },
        "id": "U50jbpnJ6G0C",
        "outputId": "18cb843d-72ab-4638-fd5a-37a263971d31"
      },
      "source": [
        "print(\"Enter the text\")\n",
        "text=input()\n",
        "print(summarizer(text))"
      ],
      "execution_count": null,
      "outputs": [
        {
          "output_type": "stream",
          "text": [
            "Enter the text\n",
            "\"The term Machine Learning was coined by Arthur Samuel in 1959, an American pioneer in the field of computer gaming and artificial intelligence and stated that “it gives computers the ability to learn without being explicitly programmed”. And in 1997, Tom Mitchell gave a “well-posed” mathematical and relational definition that “A computer program is said to learn from experience E with respect to some task T and some performance measure P, if its performance on T, as measured by P, improves with experience E.  Machine Learning is a latest buzzword floating around. It deserves to, as it is one of the most interesting subfield of Computer Science. So what does Machine Learning really mean?  Let’s try to understand Machine Learning in layman terms. Consider you are trying to toss a paper to a dustbin.  After first attempt, you realize that you have put too much force in it. After second attempt, you realize you are closer to target but you need to increase your throw angle. What is happening here is basically after every throw we are learning something and improving the end result. We are programmed to learn from our experience.  This implies that the tasks in which machine learning is concerned offers a fundamentally operational definition rather than defining the field in cognitive terms. This follows Alan Turing’s proposal in his paper “Computing Machinery and Intelligence”, in which the question “Can machines think?” is replaced with the question “Can machines do what we (as thinking entities) can do?” Within the field of data analytics, machine learning is used to devise complex models and algorithms that lend themselves to prediction; in commercial use, this is known as predictive analytics. These analytical models allow researchers, data scientists, engineers, and analysts to “produce reliable, repeatable decisions and results” and uncover “hidden insights” through learning from historical relationships and trends in the data set(input).     Suppose that you decide to check out that offer for a vacation . You browse through the travel agency website and search for a hotel. When you look at a specific hotel, just below the hotel description there is a section titled “You might also like these hotels”. This is a common use case of Machine Learning called “Recommendation Engine”. Again, many data points were used to train a model in order to predict what will be the best hotels to show you under that section, based on a lot of information they already know about you.  So if you want your program to predict, for example, traffic patterns at a busy intersection (task T), you can run it through a machine learning algorithm with data about past traffic patterns (experience E) and, if it has successfully “learned”, it will then do better at predicting future traffic patterns (performance measure P). The highly complex nature of many real-world problems, though, often means that inventing specialized algorithms that will solve them perfectly every time is impractical, if not impossible. Examples of machine learning problems include, “Is this cancer?”, “Which of these people are good friends with each other?”, “Will this person like this movie?” such problems are excellent targets for Machine Learning, and in fact machine learning has been applied such problems with great success.\"\n",
            "You browse through the travel agency website and search for a hotel.\n",
            "When you look at a specific hotel, just below the hotel description there is a section titled “You might also like these hotels”.\n",
            "What is happening here is basically after every throw we are learning something and improving the end result.\n",
            "We are programmed to learn from our experience.\n",
            "This is a common use case of Machine Learning called “Recommendation Engine”.\n",
            "This implies that the tasks in which machine learning is concerned offers a fundamentally operational definition rather than defining the field in cognitive terms.\n",
            "This follows Alan Turing’s proposal in his paper “Computing Machinery and Intelligence”, in which the question “Can machines think?” is replaced with the question “Can machines do what we (as thinking entities) can do?” Within the field of data analytics, machine learning is used to devise complex models and algorithms that lend themselves to prediction; in commercial use, this is known as predictive analytics.\n",
            "These analytical models allow researchers, data scientists, engineers, and analysts to “produce reliable, repeatable decisions and results” and uncover “hidden insights” through learning from historical relationships and trends in the data set(input).\n",
            "\n"
          ],
          "name": "stdout"
        }
      ]
    }
  ]
}